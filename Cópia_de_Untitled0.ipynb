{
  "nbformat": 4,
  "nbformat_minor": 0,
  "metadata": {
    "colab": {
      "name": "Cópia de Untitled0.ipynb",
      "provenance": [],
      "collapsed_sections": [],
      "authorship_tag": "ABX9TyNYDlIPGKGtQSix/xmIIufu",
      "include_colab_link": true
    },
    "kernelspec": {
      "name": "python3",
      "display_name": "Python 3"
    },
    "language_info": {
      "name": "python"
    }
  },
  "cells": [
    {
      "cell_type": "markdown",
      "metadata": {
        "id": "view-in-github",
        "colab_type": "text"
      },
      "source": [
        "<a href=\"https://colab.research.google.com/github/daianefp/daianefp/blob/main/C%C3%B3pia_de_Untitled0.ipynb\" target=\"_parent\"><img src=\"https://colab.research.google.com/assets/colab-badge.svg\" alt=\"Open In Colab\"/></a>"
      ]
    },
    {
      "cell_type": "code",
      "metadata": {
        "id": "9tx8hyuNPTQz"
      },
      "source": [
        "import pyautogui\n",
        "import time\n",
        "import pyperclip\n",
        "\n",
        "pyautogui.PAUSE = 1 \n",
        "#Abrir Navegador\n",
        "pyautogui.hotkey ('Ctrl', 't')\n",
        "#abir o Drive\n",
        "link = 'https://drive.google.com/drive/u/0/folders/1wRTFw0sUVBjRr4hW5U9LF7DjLixRyxym'\n",
        "pyperclip.copy(link)\n",
        "pyautogui.hotkey ('ctrl', 'v')\n",
        "pyautogui.press ('enter')\n",
        "time.sleep (15)\n"
      ],
      "execution_count": null,
      "outputs": []
    },
    {
      "cell_type": "markdown",
      "metadata": {
        "id": "eNnnNQwGTqsN"
      },
      "source": [
        "# Nova seção"
      ]
    },
    {
      "cell_type": "markdown",
      "metadata": {
        "id": "Kw0qWV_kRejM"
      },
      "source": [
        ""
      ]
    }
  ]
}